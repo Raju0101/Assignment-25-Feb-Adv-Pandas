{
 "cells": [
  {
   "cell_type": "markdown",
   "id": "5c04e3f0-5b38-42f2-9a53-bf73b9b81cb6",
   "metadata": {},
   "source": [
    "# Assignment 25 Feb - Adv Pandas"
   ]
  },
  {
   "cell_type": "code",
   "execution_count": null,
   "id": "da9d87eb-0633-4bad-b640-84336f385978",
   "metadata": {},
   "outputs": [],
   "source": []
  },
  {
   "cell_type": "code",
   "execution_count": 1,
   "id": "c50313db-6d23-44bb-a652-754a9185cccf",
   "metadata": {},
   "outputs": [
    {
     "ename": "SyntaxError",
     "evalue": "invalid character '‘' (U+2018) (3063570508.py, line 3)",
     "output_type": "error",
     "traceback": [
      "\u001b[0;36m  Cell \u001b[0;32mIn[1], line 3\u001b[0;36m\u001b[0m\n\u001b[0;31m    course_name = [‘Data Science’, ‘Machine Learning’, ‘Big Data’, ‘Data Engineer’]\u001b[0m\n\u001b[0m                   ^\u001b[0m\n\u001b[0;31mSyntaxError\u001b[0m\u001b[0;31m:\u001b[0m invalid character '‘' (U+2018)\n"
     ]
    }
   ],
   "source": [
    "import pandas as pd\n",
    "\n",
    "course_name = [‘Data Science’, ‘Machine Learning’, ‘Big Data’, ‘Data Engineer’]\n",
    "\n",
    "duration =  [2,3,6,4]\n",
    "\n",
    "df = pd.DataFrame(data = {‘course_name’ : course_name, ‘duration’ : duration}"
   ]
  },
  {
   "cell_type": "code",
   "execution_count": 2,
   "id": "14ad70d1-d14a-4337-94db-206c4f8f07ed",
   "metadata": {},
   "outputs": [],
   "source": [
    "# Q1. Write a code to print the data present in the second row of the dataframe, df."
   ]
  },
  {
   "cell_type": "code",
   "execution_count": 11,
   "id": "4e955f63-0638-43db-b5e2-c5ec1aa564cd",
   "metadata": {},
   "outputs": [
    {
     "ename": "SyntaxError",
     "evalue": "invalid character '‘' (U+2018) (2526670002.py, line 3)",
     "output_type": "error",
     "traceback": [
      "\u001b[0;36m  Cell \u001b[0;32mIn[11], line 3\u001b[0;36m\u001b[0m\n\u001b[0;31m    course_name :[‘Data Science’, ‘Machine Learning’, ‘Big Data’, ‘Data Engineer’]\u001b[0m\n\u001b[0m                  ^\u001b[0m\n\u001b[0;31mSyntaxError\u001b[0m\u001b[0;31m:\u001b[0m invalid character '‘' (U+2018)\n"
     ]
    }
   ],
   "source": [
    "import pandas as pd\n",
    "\n",
    "course_name :[‘Data Science’, ‘Machine Learning’, ‘Big Data’, ‘Data Engineer’]\n",
    "\n",
    "df = pd.DataFrame(course_name)\n",
    "                  print(df)"
   ]
  },
  {
   "cell_type": "code",
   "execution_count": null,
   "id": "492db55a-37ed-4b4e-9d62-cec7b05cb987",
   "metadata": {},
   "outputs": [],
   "source": []
  },
  {
   "cell_type": "code",
   "execution_count": 12,
   "id": "05016bc1-ffd0-4198-863b-b0afe3721d33",
   "metadata": {},
   "outputs": [],
   "source": [
    "# Q2. What is the difference between the functions loc and iloc in pandas.DataFrame?"
   ]
  },
  {
   "cell_type": "code",
   "execution_count": 13,
   "id": "8b8a8823-b101-4713-9f5b-aba098784f08",
   "metadata": {},
   "outputs": [],
   "source": [
    "# The main distinction between the two methods is: loc gets rows (and/or columns) with particular labels. \n",
    "# iloc gets rows (and/or columns) at integer locations.\n",
    "\n",
    "# The main distinction between loc and iloc is: loc is label-based, which means that we have to specify rows \n",
    "# and columns based on their row and column labels. iloc is integer position-based, so we have to specify rows and\n",
    "# columns by their integer position values (0-based integer position)."
   ]
  },
  {
   "cell_type": "code",
   "execution_count": null,
   "id": "7f16cd80-4419-4558-bde5-c5ef156100db",
   "metadata": {},
   "outputs": [],
   "source": []
  },
  {
   "cell_type": "code",
   "execution_count": null,
   "id": "426d28a1-09c5-4660-8b22-bbd49b418ae3",
   "metadata": {},
   "outputs": [],
   "source": [
    "# Q3. Reindex the given dataframe using a variable, reindex = [3,0,1,2] and store it in the variable, new_df \n",
    "# then find the output for both new_df.loc[2] and new_df.iloc[2].\n",
    "\n",
    "# Did you observe any difference in both the outputs? If so then explain it."
   ]
  },
  {
   "cell_type": "code",
   "execution_count": 14,
   "id": "12e9fbe4-bde7-4dcb-9595-cf3ed351a1cc",
   "metadata": {},
   "outputs": [],
   "source": [
    "import pandas as pd\n"
   ]
  },
  {
   "cell_type": "code",
   "execution_count": null,
   "id": "7987ca33-f5d5-4351-91c2-0f0e8dcc5b85",
   "metadata": {},
   "outputs": [],
   "source": [
    "course_name :[‘Data Science’, ‘Machine Learning’, ‘Big Data’, ‘Data Engineer’]\n"
   ]
  },
  {
   "cell_type": "code",
   "execution_count": 16,
   "id": "ac955d4b-7d8e-42b3-8610-47bc790204d4",
   "metadata": {},
   "outputs": [
    {
     "ename": "SyntaxError",
     "evalue": "invalid character '‘' (U+2018) (1535676876.py, line 3)",
     "output_type": "error",
     "traceback": [
      "\u001b[0;36m  Cell \u001b[0;32mIn[16], line 3\u001b[0;36m\u001b[0m\n\u001b[0;31m    course_name = [‘Data Science’, ‘Machine Learning’, ‘Big Data’, ‘Data Engineer’]\u001b[0m\n\u001b[0m                   ^\u001b[0m\n\u001b[0;31mSyntaxError\u001b[0m\u001b[0;31m:\u001b[0m invalid character '‘' (U+2018)\n"
     ]
    }
   ],
   "source": [
    "import pandas as pd\n",
    "\n",
    "course_name = [‘Data Science’, ‘Machine Learning’, ‘Big Data’, ‘Data Engineer’]\n",
    "\n",
    "duration =  [2,3,6,4]\n",
    "\n",
    "df = pd.DataFrame(data = {‘course_name’ : course_name, ‘duration’ : duration})\n",
    "df"
   ]
  },
  {
   "cell_type": "code",
   "execution_count": null,
   "id": "cd3358e5-248d-402b-b272-c10eef92a708",
   "metadata": {},
   "outputs": [],
   "source": []
  },
  {
   "cell_type": "code",
   "execution_count": 15,
   "id": "683574b9-5a7f-4fae-9563-028c0536c6b4",
   "metadata": {},
   "outputs": [
    {
     "ename": "SyntaxError",
     "evalue": "invalid syntax (668127174.py, line 1)",
     "output_type": "error",
     "traceback": [
      "\u001b[0;36m  Cell \u001b[0;32mIn[15], line 1\u001b[0;36m\u001b[0m\n\u001b[0;31m    Consider the below code to answer further questions:\u001b[0m\n\u001b[0m             ^\u001b[0m\n\u001b[0;31mSyntaxError\u001b[0m\u001b[0;31m:\u001b[0m invalid syntax\n"
     ]
    }
   ],
   "source": [
    "\n",
    "\n",
    "Consider the below code to answer further questions:\n",
    "import pandas as pd\n",
    "\n",
    "import numpy as np\n",
    "\n",
    "columns = ['column_1', 'column_2', 'column_3', 'column_4', 'column_5', 'column_6']\n",
    "\n",
    "indices = [1,2,3,4,5,6]\n",
    "\n",
    "#Creating a dataframe:\n",
    "\n",
    "df1 = pd.DataFrame(np.random.rand(6,6), columns = columns, index = indices)"
   ]
  },
  {
   "cell_type": "code",
   "execution_count": 17,
   "id": "1f428dc6-c65b-4a83-8bf7-c676e771215a",
   "metadata": {},
   "outputs": [],
   "source": [
    "# Q4. Write a code to find the following statistical measurements for the above dataframe df1:\n",
    "\n",
    "# (i) \tmean of each and every column present in the dataframe.\n",
    "\n",
    "# (ii) standard deviation of column, ‘column_2’"
   ]
  },
  {
   "cell_type": "code",
   "execution_count": 7,
   "id": "fd6819c3-d8b4-407d-bdf9-fde947739424",
   "metadata": {},
   "outputs": [],
   "source": [
    "import numpy as np\n",
    "import pandas as pd\n",
    "\n",
    "columns = ['column_1', 'column_2', 'column_3', 'column_4', 'column_5', 'column_6']\n",
    "\n",
    "indices = [1,2,3,4,5,6]\n",
    "\n",
    "#Creating a dataframe:\n",
    "\n",
    "df1 = pd.DataFrame(np.random.rand(6,6), columns = columns, index = indices)"
   ]
  },
  {
   "cell_type": "code",
   "execution_count": null,
   "id": "2c435447-a693-4ee0-a03b-77e08512abf2",
   "metadata": {},
   "outputs": [],
   "source": []
  },
  {
   "cell_type": "code",
   "execution_count": 8,
   "id": "e516957d-3e4c-482f-ba53-5af6f7e63752",
   "metadata": {},
   "outputs": [
    {
     "data": {
      "text/html": [
       "<div>\n",
       "<style scoped>\n",
       "    .dataframe tbody tr th:only-of-type {\n",
       "        vertical-align: middle;\n",
       "    }\n",
       "\n",
       "    .dataframe tbody tr th {\n",
       "        vertical-align: top;\n",
       "    }\n",
       "\n",
       "    .dataframe thead th {\n",
       "        text-align: right;\n",
       "    }\n",
       "</style>\n",
       "<table border=\"1\" class=\"dataframe\">\n",
       "  <thead>\n",
       "    <tr style=\"text-align: right;\">\n",
       "      <th></th>\n",
       "      <th>column_1</th>\n",
       "      <th>column_2</th>\n",
       "      <th>column_3</th>\n",
       "      <th>column_4</th>\n",
       "      <th>column_5</th>\n",
       "      <th>column_6</th>\n",
       "    </tr>\n",
       "  </thead>\n",
       "  <tbody>\n",
       "    <tr>\n",
       "      <th>1</th>\n",
       "      <td>0.486919</td>\n",
       "      <td>0.819530</td>\n",
       "      <td>0.911864</td>\n",
       "      <td>0.775803</td>\n",
       "      <td>0.300028</td>\n",
       "      <td>0.389366</td>\n",
       "    </tr>\n",
       "    <tr>\n",
       "      <th>2</th>\n",
       "      <td>0.340225</td>\n",
       "      <td>0.477662</td>\n",
       "      <td>0.959081</td>\n",
       "      <td>0.550954</td>\n",
       "      <td>0.031511</td>\n",
       "      <td>0.835350</td>\n",
       "    </tr>\n",
       "    <tr>\n",
       "      <th>3</th>\n",
       "      <td>0.049369</td>\n",
       "      <td>0.792836</td>\n",
       "      <td>0.743814</td>\n",
       "      <td>0.180764</td>\n",
       "      <td>0.551809</td>\n",
       "      <td>0.073249</td>\n",
       "    </tr>\n",
       "    <tr>\n",
       "      <th>4</th>\n",
       "      <td>0.701361</td>\n",
       "      <td>0.615963</td>\n",
       "      <td>0.746188</td>\n",
       "      <td>0.265634</td>\n",
       "      <td>0.271178</td>\n",
       "      <td>0.022051</td>\n",
       "    </tr>\n",
       "    <tr>\n",
       "      <th>5</th>\n",
       "      <td>0.333234</td>\n",
       "      <td>0.384776</td>\n",
       "      <td>0.796328</td>\n",
       "      <td>0.520734</td>\n",
       "      <td>0.985811</td>\n",
       "      <td>0.524917</td>\n",
       "    </tr>\n",
       "    <tr>\n",
       "      <th>6</th>\n",
       "      <td>0.074545</td>\n",
       "      <td>0.368194</td>\n",
       "      <td>0.536560</td>\n",
       "      <td>0.289130</td>\n",
       "      <td>0.707196</td>\n",
       "      <td>0.631823</td>\n",
       "    </tr>\n",
       "  </tbody>\n",
       "</table>\n",
       "</div>"
      ],
      "text/plain": [
       "   column_1  column_2  column_3  column_4  column_5  column_6\n",
       "1  0.486919  0.819530  0.911864  0.775803  0.300028  0.389366\n",
       "2  0.340225  0.477662  0.959081  0.550954  0.031511  0.835350\n",
       "3  0.049369  0.792836  0.743814  0.180764  0.551809  0.073249\n",
       "4  0.701361  0.615963  0.746188  0.265634  0.271178  0.022051\n",
       "5  0.333234  0.384776  0.796328  0.520734  0.985811  0.524917\n",
       "6  0.074545  0.368194  0.536560  0.289130  0.707196  0.631823"
      ]
     },
     "execution_count": 8,
     "metadata": {},
     "output_type": "execute_result"
    }
   ],
   "source": [
    "df1"
   ]
  },
  {
   "cell_type": "code",
   "execution_count": 9,
   "id": "0f49bcf7-093a-4bbd-8025-ec53dbb76818",
   "metadata": {},
   "outputs": [
    {
     "data": {
      "text/plain": [
       "column_1    0.330942\n",
       "column_2    0.576493\n",
       "column_3    0.782306\n",
       "column_4    0.430503\n",
       "column_5    0.474589\n",
       "column_6    0.412793\n",
       "dtype: float64"
      ]
     },
     "execution_count": 9,
     "metadata": {},
     "output_type": "execute_result"
    }
   ],
   "source": [
    "df1.mean()"
   ]
  },
  {
   "cell_type": "code",
   "execution_count": 10,
   "id": "89f9d4cc-a102-45e0-a124-a8ae5581053d",
   "metadata": {},
   "outputs": [
    {
     "data": {
      "text/plain": [
       "0.5764934103252104"
      ]
     },
     "execution_count": 10,
     "metadata": {},
     "output_type": "execute_result"
    }
   ],
   "source": [
    "df1['column_2'].mean()"
   ]
  },
  {
   "cell_type": "code",
   "execution_count": 11,
   "id": "558c7328-cd6b-4c2e-b92e-ec2d64642414",
   "metadata": {},
   "outputs": [
    {
     "data": {
      "text/plain": [
       "0.19866570735881556"
      ]
     },
     "execution_count": 11,
     "metadata": {},
     "output_type": "execute_result"
    }
   ],
   "source": [
    "df2 = df1['column_2'].std()\n",
    "df2"
   ]
  },
  {
   "cell_type": "code",
   "execution_count": null,
   "id": "f508bef4-dde1-4879-a845-1cf877c0d76e",
   "metadata": {},
   "outputs": [],
   "source": []
  },
  {
   "cell_type": "code",
   "execution_count": 12,
   "id": "86cc373c-e7f4-4c75-a603-c14beb98f8c4",
   "metadata": {},
   "outputs": [],
   "source": [
    "# Q5. Replace the data present in the second row of column, ‘column_2’ by a string variable then find the \n",
    "# mean of column, column_2.\n",
    "\n",
    "# If you are getting errors in executing it then explain why.\n",
    "\n",
    "# [Hint: To replace the data use df1.loc[] and equate this to string data of your choice.]"
   ]
  },
  {
   "cell_type": "code",
   "execution_count": 13,
   "id": "63c4599e-1804-4111-bc53-95891360e57a",
   "metadata": {},
   "outputs": [
    {
     "data": {
      "text/html": [
       "<div>\n",
       "<style scoped>\n",
       "    .dataframe tbody tr th:only-of-type {\n",
       "        vertical-align: middle;\n",
       "    }\n",
       "\n",
       "    .dataframe tbody tr th {\n",
       "        vertical-align: top;\n",
       "    }\n",
       "\n",
       "    .dataframe thead th {\n",
       "        text-align: right;\n",
       "    }\n",
       "</style>\n",
       "<table border=\"1\" class=\"dataframe\">\n",
       "  <thead>\n",
       "    <tr style=\"text-align: right;\">\n",
       "      <th></th>\n",
       "      <th>column_1</th>\n",
       "      <th>column_2</th>\n",
       "      <th>column_3</th>\n",
       "      <th>column_4</th>\n",
       "      <th>column_5</th>\n",
       "      <th>column_6</th>\n",
       "    </tr>\n",
       "  </thead>\n",
       "  <tbody>\n",
       "    <tr>\n",
       "      <th>1</th>\n",
       "      <td>0.486919</td>\n",
       "      <td>0.819530</td>\n",
       "      <td>0.911864</td>\n",
       "      <td>0.775803</td>\n",
       "      <td>0.300028</td>\n",
       "      <td>0.389366</td>\n",
       "    </tr>\n",
       "    <tr>\n",
       "      <th>2</th>\n",
       "      <td>0.340225</td>\n",
       "      <td>0.477662</td>\n",
       "      <td>0.959081</td>\n",
       "      <td>0.550954</td>\n",
       "      <td>0.031511</td>\n",
       "      <td>0.835350</td>\n",
       "    </tr>\n",
       "    <tr>\n",
       "      <th>3</th>\n",
       "      <td>0.049369</td>\n",
       "      <td>0.792836</td>\n",
       "      <td>0.743814</td>\n",
       "      <td>0.180764</td>\n",
       "      <td>0.551809</td>\n",
       "      <td>0.073249</td>\n",
       "    </tr>\n",
       "    <tr>\n",
       "      <th>4</th>\n",
       "      <td>0.701361</td>\n",
       "      <td>0.615963</td>\n",
       "      <td>0.746188</td>\n",
       "      <td>0.265634</td>\n",
       "      <td>0.271178</td>\n",
       "      <td>0.022051</td>\n",
       "    </tr>\n",
       "    <tr>\n",
       "      <th>5</th>\n",
       "      <td>0.333234</td>\n",
       "      <td>0.384776</td>\n",
       "      <td>0.796328</td>\n",
       "      <td>0.520734</td>\n",
       "      <td>0.985811</td>\n",
       "      <td>0.524917</td>\n",
       "    </tr>\n",
       "    <tr>\n",
       "      <th>6</th>\n",
       "      <td>0.074545</td>\n",
       "      <td>0.368194</td>\n",
       "      <td>0.536560</td>\n",
       "      <td>0.289130</td>\n",
       "      <td>0.707196</td>\n",
       "      <td>0.631823</td>\n",
       "    </tr>\n",
       "  </tbody>\n",
       "</table>\n",
       "</div>"
      ],
      "text/plain": [
       "   column_1  column_2  column_3  column_4  column_5  column_6\n",
       "1  0.486919  0.819530  0.911864  0.775803  0.300028  0.389366\n",
       "2  0.340225  0.477662  0.959081  0.550954  0.031511  0.835350\n",
       "3  0.049369  0.792836  0.743814  0.180764  0.551809  0.073249\n",
       "4  0.701361  0.615963  0.746188  0.265634  0.271178  0.022051\n",
       "5  0.333234  0.384776  0.796328  0.520734  0.985811  0.524917\n",
       "6  0.074545  0.368194  0.536560  0.289130  0.707196  0.631823"
      ]
     },
     "execution_count": 13,
     "metadata": {},
     "output_type": "execute_result"
    }
   ],
   "source": [
    "df1\n"
   ]
  },
  {
   "cell_type": "code",
   "execution_count": 20,
   "id": "d43a663c-24ed-4d18-87b4-824e35a90ca0",
   "metadata": {},
   "outputs": [
    {
     "name": "stderr",
     "output_type": "stream",
     "text": [
      "/tmp/ipykernel_116/1121170610.py:1: SettingWithCopyWarning: \n",
      "A value is trying to be set on a copy of a slice from a DataFrame\n",
      "\n",
      "See the caveats in the documentation: https://pandas.pydata.org/pandas-docs/stable/user_guide/indexing.html#returning-a-view-versus-a-copy\n",
      "  df1['column_2'][2] = 'raju'\n"
     ]
    },
    {
     "data": {
      "text/html": [
       "<div>\n",
       "<style scoped>\n",
       "    .dataframe tbody tr th:only-of-type {\n",
       "        vertical-align: middle;\n",
       "    }\n",
       "\n",
       "    .dataframe tbody tr th {\n",
       "        vertical-align: top;\n",
       "    }\n",
       "\n",
       "    .dataframe thead th {\n",
       "        text-align: right;\n",
       "    }\n",
       "</style>\n",
       "<table border=\"1\" class=\"dataframe\">\n",
       "  <thead>\n",
       "    <tr style=\"text-align: right;\">\n",
       "      <th></th>\n",
       "      <th>column_1</th>\n",
       "      <th>column_2</th>\n",
       "      <th>column_3</th>\n",
       "      <th>column_4</th>\n",
       "      <th>column_5</th>\n",
       "      <th>column_6</th>\n",
       "      <th>o</th>\n",
       "      <th>l</th>\n",
       "    </tr>\n",
       "  </thead>\n",
       "  <tbody>\n",
       "    <tr>\n",
       "      <th>1</th>\n",
       "      <td>0.486919</td>\n",
       "      <td>0.81953</td>\n",
       "      <td>0.911864</td>\n",
       "      <td>0.775803</td>\n",
       "      <td>0.300028</td>\n",
       "      <td>0.389366</td>\n",
       "      <td>raju</td>\n",
       "      <td>raju</td>\n",
       "    </tr>\n",
       "    <tr>\n",
       "      <th>2</th>\n",
       "      <td>0.340225</td>\n",
       "      <td>raju</td>\n",
       "      <td>0.959081</td>\n",
       "      <td>0.550954</td>\n",
       "      <td>0.031511</td>\n",
       "      <td>0.835350</td>\n",
       "      <td>raju</td>\n",
       "      <td>raju</td>\n",
       "    </tr>\n",
       "    <tr>\n",
       "      <th>3</th>\n",
       "      <td>0.049369</td>\n",
       "      <td>0.792836</td>\n",
       "      <td>0.743814</td>\n",
       "      <td>0.180764</td>\n",
       "      <td>0.551809</td>\n",
       "      <td>0.073249</td>\n",
       "      <td>raju</td>\n",
       "      <td>raju</td>\n",
       "    </tr>\n",
       "    <tr>\n",
       "      <th>4</th>\n",
       "      <td>0.701361</td>\n",
       "      <td>0.615963</td>\n",
       "      <td>0.746188</td>\n",
       "      <td>0.265634</td>\n",
       "      <td>0.271178</td>\n",
       "      <td>0.022051</td>\n",
       "      <td>raju</td>\n",
       "      <td>raju</td>\n",
       "    </tr>\n",
       "    <tr>\n",
       "      <th>5</th>\n",
       "      <td>0.333234</td>\n",
       "      <td>0.384776</td>\n",
       "      <td>0.796328</td>\n",
       "      <td>0.520734</td>\n",
       "      <td>0.985811</td>\n",
       "      <td>0.524917</td>\n",
       "      <td>raju</td>\n",
       "      <td>raju</td>\n",
       "    </tr>\n",
       "    <tr>\n",
       "      <th>6</th>\n",
       "      <td>0.074545</td>\n",
       "      <td>0.368194</td>\n",
       "      <td>0.536560</td>\n",
       "      <td>0.289130</td>\n",
       "      <td>0.707196</td>\n",
       "      <td>0.631823</td>\n",
       "      <td>raju</td>\n",
       "      <td>raju</td>\n",
       "    </tr>\n",
       "  </tbody>\n",
       "</table>\n",
       "</div>"
      ],
      "text/plain": [
       "   column_1  column_2  column_3  column_4  column_5  column_6     o     l\n",
       "1  0.486919   0.81953  0.911864  0.775803  0.300028  0.389366  raju  raju\n",
       "2  0.340225      raju  0.959081  0.550954  0.031511  0.835350  raju  raju\n",
       "3  0.049369  0.792836  0.743814  0.180764  0.551809  0.073249  raju  raju\n",
       "4  0.701361  0.615963  0.746188  0.265634  0.271178  0.022051  raju  raju\n",
       "5  0.333234  0.384776  0.796328  0.520734  0.985811  0.524917  raju  raju\n",
       "6  0.074545  0.368194  0.536560  0.289130  0.707196  0.631823  raju  raju"
      ]
     },
     "execution_count": 20,
     "metadata": {},
     "output_type": "execute_result"
    }
   ],
   "source": [
    "df1['column_2'][2] = 'raju'\n",
    "df1"
   ]
  },
  {
   "cell_type": "code",
   "execution_count": null,
   "id": "646b0275-7615-4d02-8fd6-0c5969d9b6a9",
   "metadata": {},
   "outputs": [],
   "source": [
    "df1['column_2'].mean()"
   ]
  },
  {
   "cell_type": "code",
   "execution_count": 23,
   "id": "d273b018-bc93-491c-8d27-c07748ca0037",
   "metadata": {},
   "outputs": [],
   "source": [
    "# Can not find mean because one value(raju) is str type and other value(0.56) is float type."
   ]
  },
  {
   "cell_type": "code",
   "execution_count": null,
   "id": "7174b97f-829e-4fc9-a503-ea518c006d33",
   "metadata": {},
   "outputs": [],
   "source": []
  },
  {
   "cell_type": "code",
   "execution_count": null,
   "id": "8d036c47-e23f-484b-929e-3257681f6f69",
   "metadata": {},
   "outputs": [],
   "source": [
    "# Q6. What do you understand about the windows function in pandas and list the types of windows functions?"
   ]
  },
  {
   "cell_type": "code",
   "execution_count": null,
   "id": "f7538668-52a7-41bb-8fb3-59a882bc331e",
   "metadata": {},
   "outputs": [],
   "source": [
    "# The window functions in Pandas are used to perform some sort of calculations across a set of rows that are\n",
    "# interrelated with the current row. The windows functions help us to perform the aggregated calculations across\n",
    "# various partitions or cross-sections of the data.\n",
    "\n",
    "\n",
    "# the various windows functions in pandas such as :-\n",
    "# Group by, Rolling, Expanding, and Exponentially Weighted window,"
   ]
  },
  {
   "cell_type": "code",
   "execution_count": null,
   "id": "a05e51e9-6462-4716-a59c-3e080cc3200c",
   "metadata": {},
   "outputs": [],
   "source": [
    "# pandas supports 4 types of windowing function:\n",
    "\n",
    "# Rolling window: Generic fixed or variable sliding window over the values.\n",
    "\n",
    "# Weighted window: Weighted, non-rectangular window supplied by the scipy.signal library.\n",
    "\n",
    "# Expanding window: Accumulating window over the values.\n",
    "\n",
    "# Exponentially Weighted window: Accumulating and exponentially weighted window over the values."
   ]
  },
  {
   "cell_type": "code",
   "execution_count": null,
   "id": "1cbdbf24-0ee5-418d-a0ed-10dd05ddea35",
   "metadata": {},
   "outputs": [],
   "source": []
  },
  {
   "cell_type": "code",
   "execution_count": 24,
   "id": "ad2ace6f-7ebe-47d1-99d6-5ce829b4fe0e",
   "metadata": {},
   "outputs": [],
   "source": [
    "# Q7. Write a code to print only the current month and year at the time of answering this question.\n",
    "\n",
    "# [Hint: Use pandas.datetime function]"
   ]
  },
  {
   "cell_type": "code",
   "execution_count": null,
   "id": "f63a896b-b147-438e-9a81-f3ff466b104b",
   "metadata": {},
   "outputs": [],
   "source": []
  },
  {
   "cell_type": "code",
   "execution_count": 38,
   "id": "bd2b82f7-eb51-4a6b-8cd7-9cb5ae535e94",
   "metadata": {},
   "outputs": [
    {
     "name": "stdout",
     "output_type": "stream",
     "text": [
      "Timestamp:  2023-02-27 00:00:00\n",
      "\n",
      "Today's Date and time...\n",
      " 2023-02-27 18:35:45.933667\n"
     ]
    }
   ],
   "source": [
    "import pandas as pd\n",
    "import datetime\n",
    "\n",
    "\n",
    "timestamp = pd.Timestamp(datetime.datetime(2023, 2, 27))\n",
    "\n",
    "print(\"Timestamp: \", timestamp)\n",
    "\n",
    "# getting the current date and time\n",
    "res = timestamp.today()\n",
    "\n",
    "# display the current date and time\n",
    "print(\"\\nToday's Date and time...\\n\", res)"
   ]
  },
  {
   "cell_type": "code",
   "execution_count": null,
   "id": "745ff13d-0f8b-4fe4-9a27-018142b2cc1c",
   "metadata": {},
   "outputs": [],
   "source": []
  },
  {
   "cell_type": "code",
   "execution_count": null,
   "id": "0d6d75bd-dc57-4e28-8825-53deaf2b7700",
   "metadata": {},
   "outputs": [],
   "source": []
  }
 ],
 "metadata": {
  "kernelspec": {
   "display_name": "Python 3 (ipykernel)",
   "language": "python",
   "name": "python3"
  },
  "language_info": {
   "codemirror_mode": {
    "name": "ipython",
    "version": 3
   },
   "file_extension": ".py",
   "mimetype": "text/x-python",
   "name": "python",
   "nbconvert_exporter": "python",
   "pygments_lexer": "ipython3",
   "version": "3.10.8"
  }
 },
 "nbformat": 4,
 "nbformat_minor": 5
}
